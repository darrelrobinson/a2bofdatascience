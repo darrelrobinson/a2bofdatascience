{
 "cells": [
  {
   "cell_type": "code",
   "execution_count": 1,
   "metadata": {},
   "outputs": [],
   "source": [
    "import bs4 as bs\n",
    "import urllib.request\n",
    "import pandas as pd\n",
    "import numpy as np\n",
    "\n",
    "\n",
    "url='https://www.11v11.com/competitions/premier-league/2021/matches/'\n",
    "source = urllib.request.urlopen(url).read()\n",
    "\n",
    "\n",
    "#page = urllib2.urlopen(url).read()\n",
    "soup = bs.BeautifulSoup(source)"
   ]
  },
  {
   "cell_type": "code",
   "execution_count": 2,
   "metadata": {},
   "outputs": [],
   "source": [
    "table = soup.find('table')\n",
    "\n",
    "rows = list()\n",
    "for row in table.findAll(\"tr\"):\n",
    "    rows.append(row)\n"
   ]
  },
  {
   "cell_type": "code",
   "execution_count": 3,
   "metadata": {},
   "outputs": [],
   "source": [
    "date = []\n",
    "home = []\n",
    "away = []\n",
    "score = []\n",
    "for row in rows:\n",
    "    home_start = str(row).find('\"home\">') + 7\n",
    "    home_end = str(row).find('</td', home_start)\n",
    "    home.append(str(row)[home_start:home_end])\n",
    "    \n",
    "    away_start = str(row).rfind('</a></td><td>') + 13\n",
    "    away_end = str(row).rfind('</td><td></td></tr>')\n",
    "    away.append(str(row)[away_start:away_end])\n",
    "    \n",
    "    score_start = str(row).rfind('\"view match details\">') + 21\n",
    "    score_end = str(row).rfind('</a></td><td>')\n",
    "    score.append(str(row)[score_start:score_end])\n",
    "    \n",
    "    date_start = 8\n",
    "    date_end = str(rows[2]).find('</td><td')\n",
    "    date.append(str(row)[date_start:date_end])"
   ]
  },
  {
   "cell_type": "code",
   "execution_count": 4,
   "metadata": {},
   "outputs": [
    {
     "name": "stderr",
     "output_type": "stream",
     "text": [
      "//anaconda3/lib/python3.7/site-packages/ipykernel_launcher.py:22: DeprecationWarning: Numeric-style type codes are deprecated and will result in an error in the future.\n",
      "//anaconda3/lib/python3.7/site-packages/ipykernel_launcher.py:23: DeprecationWarning: Numeric-style type codes are deprecated and will result in an error in the future.\n"
     ]
    }
   ],
   "source": [
    "results = pd.DataFrame({\n",
    "    'Date': date,\n",
    "    'Season': 2020,\n",
    "    'home': home,\n",
    "    'visitor': away,\n",
    "    'FT': score\n",
    "}).assign(\n",
    "    header = lambda x: ['colspan' in r for r in x.Date]\n",
    ")\n",
    "\n",
    "results = results[\n",
    "    results.header == False\n",
    "].drop(\n",
    "    columns='header'\n",
    ").assign(\n",
    "    hgoal = lambda x: x.FT.str.split(':', expand=True)[0],\n",
    "    vgoal = lambda x: x.FT.str.split(':', expand=True)[1],\n",
    "    result = lambda x: np.where(x.hgoal > x.vgoal, 'H',\n",
    "                               np.where(x.hgoal == x.vgoal, 'D', 'A'))\n",
    ")\n",
    "\n",
    "results['hgoal'] = np.where(results.hgoal == '', np.nan, results.hgoal).astype('Float64')\n",
    "results['vgoal'] = np.where(results.vgoal == '', np.nan, results.vgoal).astype('Float64')\n",
    "results['result'] = np.where(results.isnull()['hgoal'], np.nan, results.result)\n",
    "results['goaldif'] = results.hgoal - results.vgoal\n",
    "results['Date'] = pd.to_datetime(results.Date)"
   ]
  },
  {
   "cell_type": "code",
   "execution_count": 5,
   "metadata": {},
   "outputs": [
    {
     "data": {
      "text/html": [
       "<div>\n",
       "<style scoped>\n",
       "    .dataframe tbody tr th:only-of-type {\n",
       "        vertical-align: middle;\n",
       "    }\n",
       "\n",
       "    .dataframe tbody tr th {\n",
       "        vertical-align: top;\n",
       "    }\n",
       "\n",
       "    .dataframe thead th {\n",
       "        text-align: right;\n",
       "    }\n",
       "</style>\n",
       "<table border=\"1\" class=\"dataframe\">\n",
       "  <thead>\n",
       "    <tr style=\"text-align: right;\">\n",
       "      <th></th>\n",
       "      <th>Date</th>\n",
       "      <th>Season</th>\n",
       "      <th>home</th>\n",
       "      <th>visitor</th>\n",
       "      <th>FT</th>\n",
       "      <th>hgoal</th>\n",
       "      <th>vgoal</th>\n",
       "      <th>result</th>\n",
       "      <th>goaldif</th>\n",
       "    </tr>\n",
       "  </thead>\n",
       "  <tbody>\n",
       "    <tr>\n",
       "      <th>203</th>\n",
       "      <td>2021-01-30</td>\n",
       "      <td>2020</td>\n",
       "      <td>Crystal Palace</td>\n",
       "      <td>Wolverhampton Wanderers</td>\n",
       "      <td>:</td>\n",
       "      <td>NaN</td>\n",
       "      <td>NaN</td>\n",
       "      <td>NaN</td>\n",
       "      <td>NaN</td>\n",
       "    </tr>\n",
       "    <tr>\n",
       "      <th>204</th>\n",
       "      <td>2021-01-30</td>\n",
       "      <td>2020</td>\n",
       "      <td>Everton</td>\n",
       "      <td>Newcastle United</td>\n",
       "      <td>:</td>\n",
       "      <td>NaN</td>\n",
       "      <td>NaN</td>\n",
       "      <td>NaN</td>\n",
       "      <td>NaN</td>\n",
       "    </tr>\n",
       "    <tr>\n",
       "      <th>205</th>\n",
       "      <td>2021-01-30</td>\n",
       "      <td>2020</td>\n",
       "      <td>Manchester City</td>\n",
       "      <td>Sheffield United</td>\n",
       "      <td>:</td>\n",
       "      <td>NaN</td>\n",
       "      <td>NaN</td>\n",
       "      <td>NaN</td>\n",
       "      <td>NaN</td>\n",
       "    </tr>\n",
       "    <tr>\n",
       "      <th>206</th>\n",
       "      <td>2021-01-30</td>\n",
       "      <td>2020</td>\n",
       "      <td>Southampton</td>\n",
       "      <td>Aston Villa</td>\n",
       "      <td>:</td>\n",
       "      <td>NaN</td>\n",
       "      <td>NaN</td>\n",
       "      <td>NaN</td>\n",
       "      <td>NaN</td>\n",
       "    </tr>\n",
       "    <tr>\n",
       "      <th>207</th>\n",
       "      <td>2021-01-30</td>\n",
       "      <td>2020</td>\n",
       "      <td>West Bromwich Albion</td>\n",
       "      <td>Fulham</td>\n",
       "      <td>:</td>\n",
       "      <td>NaN</td>\n",
       "      <td>NaN</td>\n",
       "      <td>NaN</td>\n",
       "      <td>NaN</td>\n",
       "    </tr>\n",
       "  </tbody>\n",
       "</table>\n",
       "</div>"
      ],
      "text/plain": [
       "          Date  Season                  home                  visitor FT  \\\n",
       "203 2021-01-30    2020        Crystal Palace  Wolverhampton Wanderers  :   \n",
       "204 2021-01-30    2020               Everton         Newcastle United  :   \n",
       "205 2021-01-30    2020       Manchester City         Sheffield United  :   \n",
       "206 2021-01-30    2020           Southampton              Aston Villa  :   \n",
       "207 2021-01-30    2020  West Bromwich Albion                   Fulham  :   \n",
       "\n",
       "     hgoal  vgoal result  goaldif  \n",
       "203    NaN    NaN    NaN      NaN  \n",
       "204    NaN    NaN    NaN      NaN  \n",
       "205    NaN    NaN    NaN      NaN  \n",
       "206    NaN    NaN    NaN      NaN  \n",
       "207    NaN    NaN    NaN      NaN  "
      ]
     },
     "execution_count": 5,
     "metadata": {},
     "output_type": "execute_result"
    }
   ],
   "source": [
    "results.tail()"
   ]
  },
  {
   "cell_type": "code",
   "execution_count": 6,
   "metadata": {},
   "outputs": [],
   "source": [
    "results.to_csv('/Users/darrelr/Documents/pl/data/england_2020.csv', index=False)"
   ]
  }
 ],
 "metadata": {
  "kernelspec": {
   "display_name": "Python 3",
   "language": "python",
   "name": "python3"
  },
  "language_info": {
   "codemirror_mode": {
    "name": "ipython",
    "version": 3
   },
   "file_extension": ".py",
   "mimetype": "text/x-python",
   "name": "python",
   "nbconvert_exporter": "python",
   "pygments_lexer": "ipython3",
   "version": "3.7.4"
  }
 },
 "nbformat": 4,
 "nbformat_minor": 4
}
