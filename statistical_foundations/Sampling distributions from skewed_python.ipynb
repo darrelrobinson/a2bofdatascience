{
 "cells": [
  {
   "cell_type": "code",
   "execution_count": 1,
   "metadata": {},
   "outputs": [],
   "source": [
    "import pandas as pd\n",
    "import numpy as np\n",
    "\n",
    "import matplotlib.pyplot as plt\n",
    "%matplotlib inline\n",
    "import seaborn as sns\n",
    "\n",
    "import requests"
   ]
  },
  {
   "cell_type": "code",
   "execution_count": 2,
   "metadata": {},
   "outputs": [],
   "source": [
    "# params generated from this website: https://www.statistikdatabasen.scb.se/pxweb/sv/ssd/START__HE__HE0110__HE0110A/SamForvInk2/table/tableViewLayout1/\n",
    "params = \"\"\"\n",
    "    {\n",
    "      \"query\": [\n",
    "        {\n",
    "          \"code\": \"Region\",\n",
    "          \"selection\": {\n",
    "            \"filter\": \"vs:RegionRiket99\",\n",
    "            \"values\": []\n",
    "          }\n",
    "        },\n",
    "        {\n",
    "          \"code\": \"Kon\",\n",
    "          \"selection\": {\n",
    "            \"filter\": \"item\",\n",
    "            \"values\": [\n",
    "              \"1+2\"\n",
    "            ]\n",
    "          }\n",
    "        },\n",
    "        {\n",
    "          \"code\": \"Alder\",\n",
    "          \"selection\": {\n",
    "            \"filter\": \"item\",\n",
    "            \"values\": [\n",
    "              \"tot16+\"\n",
    "            ]\n",
    "          }\n",
    "        },\n",
    "        {\n",
    "          \"code\": \"Inkomstklass\",\n",
    "          \"selection\": {\n",
    "            \"filter\": \"item\",\n",
    "            \"values\": [\n",
    "              \"0\",\n",
    "              \"1-19\",\n",
    "              \"20-39\",\n",
    "              \"40-59\",\n",
    "              \"60-79\",\n",
    "              \"80-99\",\n",
    "              \"100-119\",\n",
    "              \"120-139\",\n",
    "              \"140-159\",\n",
    "              \"160-179\",\n",
    "              \"180-199\",\n",
    "              \"200-219\",\n",
    "              \"220-239\",\n",
    "              \"240-259\",\n",
    "              \"260-279\",\n",
    "              \"280-299\",\n",
    "              \"300-319\",\n",
    "              \"320-339\",\n",
    "              \"340-359\",\n",
    "              \"360-379\",\n",
    "              \"380-399\",\n",
    "              \"400-499\",\n",
    "              \"500-599\",\n",
    "              \"600-799\",\n",
    "              \"800-999\",\n",
    "              \"1000+\"\n",
    "            ]\n",
    "          }\n",
    "        },\n",
    "        {\n",
    "          \"code\": \"ContentsCode\",\n",
    "          \"selection\": {\n",
    "            \"filter\": \"item\",\n",
    "            \"values\": [\n",
    "              \"HE0110K4\",\n",
    "              \"HE0110K3\"\n",
    "            ]\n",
    "          }\n",
    "        },\n",
    "        {\n",
    "          \"code\": \"Tid\",\n",
    "          \"selection\": {\n",
    "            \"filter\": \"item\",\n",
    "            \"values\": [\n",
    "              \"2018\"\n",
    "            ]\n",
    "          }\n",
    "        }\n",
    "      ],\n",
    "      \"response\": {\n",
    "        \"format\": \"json\"\n",
    "      }\n",
    "    }\n",
    "\"\"\""
   ]
  },
  {
   "cell_type": "code",
   "execution_count": 3,
   "metadata": {},
   "outputs": [
    {
     "data": {
      "text/html": [
       "<div>\n",
       "<style scoped>\n",
       "    .dataframe tbody tr th:only-of-type {\n",
       "        vertical-align: middle;\n",
       "    }\n",
       "\n",
       "    .dataframe tbody tr th {\n",
       "        vertical-align: top;\n",
       "    }\n",
       "\n",
       "    .dataframe thead th {\n",
       "        text-align: right;\n",
       "    }\n",
       "</style>\n",
       "<table border=\"1\" class=\"dataframe\">\n",
       "  <thead>\n",
       "    <tr style=\"text-align: right;\">\n",
       "      <th></th>\n",
       "      <th>key</th>\n",
       "      <th>values</th>\n",
       "    </tr>\n",
       "  </thead>\n",
       "  <tbody>\n",
       "    <tr>\n",
       "      <th>0</th>\n",
       "      <td>[1+2, tot16+, 0, 2018]</td>\n",
       "      <td>0.0</td>\n",
       "    </tr>\n",
       "    <tr>\n",
       "      <th>0</th>\n",
       "      <td>[1+2, tot16+, 0, 2018]</td>\n",
       "      <td>497842</td>\n",
       "    </tr>\n",
       "    <tr>\n",
       "      <th>1</th>\n",
       "      <td>[1+2, tot16+, 1-19, 2018]</td>\n",
       "      <td>2472.4</td>\n",
       "    </tr>\n",
       "    <tr>\n",
       "      <th>1</th>\n",
       "      <td>[1+2, tot16+, 1-19, 2018]</td>\n",
       "      <td>291786</td>\n",
       "    </tr>\n",
       "    <tr>\n",
       "      <th>2</th>\n",
       "      <td>[1+2, tot16+, 20-39, 2018]</td>\n",
       "      <td>4870.8</td>\n",
       "    </tr>\n",
       "  </tbody>\n",
       "</table>\n",
       "</div>"
      ],
      "text/plain": [
       "                          key  values\n",
       "0      [1+2, tot16+, 0, 2018]     0.0\n",
       "0      [1+2, tot16+, 0, 2018]  497842\n",
       "1   [1+2, tot16+, 1-19, 2018]  2472.4\n",
       "1   [1+2, tot16+, 1-19, 2018]  291786\n",
       "2  [1+2, tot16+, 20-39, 2018]  4870.8"
      ]
     },
     "execution_count": 3,
     "metadata": {},
     "output_type": "execute_result"
    }
   ],
   "source": [
    "r = requests.post(url='http://api.scb.se/OV0104/v1/doris/sv/ssd/START/HE/HE0110/HE0110A/SamForvInk2',\n",
    "             data=params)\n",
    "df = pd.DataFrame(r.json()['data']).explode('values')\n",
    "df.head()"
   ]
  },
  {
   "cell_type": "code",
   "execution_count": 4,
   "metadata": {},
   "outputs": [
    {
     "data": {
      "text/html": [
       "<div>\n",
       "<style scoped>\n",
       "    .dataframe tbody tr th:only-of-type {\n",
       "        vertical-align: middle;\n",
       "    }\n",
       "\n",
       "    .dataframe tbody tr th {\n",
       "        vertical-align: top;\n",
       "    }\n",
       "\n",
       "    .dataframe thead th {\n",
       "        text-align: right;\n",
       "    }\n",
       "</style>\n",
       "<table border=\"1\" class=\"dataframe\">\n",
       "  <thead>\n",
       "    <tr style=\"text-align: right;\">\n",
       "      <th></th>\n",
       "      <th>key</th>\n",
       "      <th>values</th>\n",
       "      <th>col_names</th>\n",
       "    </tr>\n",
       "  </thead>\n",
       "  <tbody>\n",
       "    <tr>\n",
       "      <th>0</th>\n",
       "      <td>0</td>\n",
       "      <td>0.0</td>\n",
       "      <td>sum</td>\n",
       "    </tr>\n",
       "    <tr>\n",
       "      <th>0</th>\n",
       "      <td>0</td>\n",
       "      <td>497842</td>\n",
       "      <td>n_people</td>\n",
       "    </tr>\n",
       "    <tr>\n",
       "      <th>1</th>\n",
       "      <td>1-19</td>\n",
       "      <td>2472.4</td>\n",
       "      <td>sum</td>\n",
       "    </tr>\n",
       "    <tr>\n",
       "      <th>1</th>\n",
       "      <td>1-19</td>\n",
       "      <td>291786</td>\n",
       "      <td>n_people</td>\n",
       "    </tr>\n",
       "    <tr>\n",
       "      <th>2</th>\n",
       "      <td>20-39</td>\n",
       "      <td>4870.8</td>\n",
       "      <td>sum</td>\n",
       "    </tr>\n",
       "  </tbody>\n",
       "</table>\n",
       "</div>"
      ],
      "text/plain": [
       "     key  values col_names\n",
       "0      0     0.0       sum\n",
       "0      0  497842  n_people\n",
       "1   1-19  2472.4       sum\n",
       "1   1-19  291786  n_people\n",
       "2  20-39  4870.8       sum"
      ]
     },
     "execution_count": 4,
     "metadata": {},
     "output_type": "execute_result"
    }
   ],
   "source": [
    "df['col_names'] = ['sum', 'n_people']*int(df.shape[0]/2)\n",
    "df['key'] = df.key.apply(lambda x: x[2])\n",
    "df.head()"
   ]
  },
  {
   "cell_type": "code",
   "execution_count": 5,
   "metadata": {},
   "outputs": [],
   "source": [
    "df['range'] = df.key.apply(lambda x: x.split('-'))\n",
    "df[['min_', 'max_']] = pd.DataFrame(df.range.tolist(), index=df.index)\n",
    "\n",
    "df['max_'] = np.where((df.max_.isnull()) & (df.min_=='0'), '0',\n",
    "                      np.where((df.max_.isnull()) & (df.min_=='1000+'), '332000',\n",
    "                               df.max_))\n",
    "\n",
    "df['min_'] = np.where(df.min_=='1000+', '1000', df.min_)\n",
    "\n",
    "df = df[[\n",
    "    'key', 'min_', 'max_'\n",
    "]].drop_duplicates(\n",
    ").merge(\n",
    "    df.pivot(index='key', columns='col_names', values='values'),\n",
    "    left_on='key',\n",
    "    right_index=True\n",
    ")\n",
    "\n",
    "df = df.astype({'min_': 'int', 'max_': 'int', 'n_people': 'int', 'sum': 'float'})"
   ]
  },
  {
   "cell_type": "code",
   "execution_count": 6,
   "metadata": {},
   "outputs": [
    {
     "data": {
      "text/html": [
       "<div>\n",
       "<style scoped>\n",
       "    .dataframe tbody tr th:only-of-type {\n",
       "        vertical-align: middle;\n",
       "    }\n",
       "\n",
       "    .dataframe tbody tr th {\n",
       "        vertical-align: top;\n",
       "    }\n",
       "\n",
       "    .dataframe thead th {\n",
       "        text-align: right;\n",
       "    }\n",
       "</style>\n",
       "<table border=\"1\" class=\"dataframe\">\n",
       "  <thead>\n",
       "    <tr style=\"text-align: right;\">\n",
       "      <th></th>\n",
       "      <th>key</th>\n",
       "      <th>min_</th>\n",
       "      <th>max_</th>\n",
       "      <th>n_people</th>\n",
       "      <th>sum</th>\n",
       "    </tr>\n",
       "  </thead>\n",
       "  <tbody>\n",
       "    <tr>\n",
       "      <th>0</th>\n",
       "      <td>0</td>\n",
       "      <td>0</td>\n",
       "      <td>0</td>\n",
       "      <td>497842</td>\n",
       "      <td>0.0</td>\n",
       "    </tr>\n",
       "    <tr>\n",
       "      <th>1</th>\n",
       "      <td>1-19</td>\n",
       "      <td>1</td>\n",
       "      <td>19</td>\n",
       "      <td>291786</td>\n",
       "      <td>2472.4</td>\n",
       "    </tr>\n",
       "    <tr>\n",
       "      <th>2</th>\n",
       "      <td>20-39</td>\n",
       "      <td>20</td>\n",
       "      <td>39</td>\n",
       "      <td>164081</td>\n",
       "      <td>4870.8</td>\n",
       "    </tr>\n",
       "    <tr>\n",
       "      <th>3</th>\n",
       "      <td>40-59</td>\n",
       "      <td>40</td>\n",
       "      <td>59</td>\n",
       "      <td>153923</td>\n",
       "      <td>7702.5</td>\n",
       "    </tr>\n",
       "    <tr>\n",
       "      <th>4</th>\n",
       "      <td>60-79</td>\n",
       "      <td>60</td>\n",
       "      <td>79</td>\n",
       "      <td>127220</td>\n",
       "      <td>8875.1</td>\n",
       "    </tr>\n",
       "    <tr>\n",
       "      <th>5</th>\n",
       "      <td>80-99</td>\n",
       "      <td>80</td>\n",
       "      <td>99</td>\n",
       "      <td>181623</td>\n",
       "      <td>16580.2</td>\n",
       "    </tr>\n",
       "    <tr>\n",
       "      <th>6</th>\n",
       "      <td>100-119</td>\n",
       "      <td>100</td>\n",
       "      <td>119</td>\n",
       "      <td>282285</td>\n",
       "      <td>31267.4</td>\n",
       "    </tr>\n",
       "    <tr>\n",
       "      <th>7</th>\n",
       "      <td>120-139</td>\n",
       "      <td>120</td>\n",
       "      <td>139</td>\n",
       "      <td>263903</td>\n",
       "      <td>34370.1</td>\n",
       "    </tr>\n",
       "    <tr>\n",
       "      <th>8</th>\n",
       "      <td>140-159</td>\n",
       "      <td>140</td>\n",
       "      <td>159</td>\n",
       "      <td>299528</td>\n",
       "      <td>44976.2</td>\n",
       "    </tr>\n",
       "    <tr>\n",
       "      <th>9</th>\n",
       "      <td>160-179</td>\n",
       "      <td>160</td>\n",
       "      <td>179</td>\n",
       "      <td>326987</td>\n",
       "      <td>55617.1</td>\n",
       "    </tr>\n",
       "    <tr>\n",
       "      <th>10</th>\n",
       "      <td>180-199</td>\n",
       "      <td>180</td>\n",
       "      <td>199</td>\n",
       "      <td>348293</td>\n",
       "      <td>66238.5</td>\n",
       "    </tr>\n",
       "    <tr>\n",
       "      <th>11</th>\n",
       "      <td>200-219</td>\n",
       "      <td>200</td>\n",
       "      <td>219</td>\n",
       "      <td>334077</td>\n",
       "      <td>70131.3</td>\n",
       "    </tr>\n",
       "    <tr>\n",
       "      <th>12</th>\n",
       "      <td>220-239</td>\n",
       "      <td>220</td>\n",
       "      <td>239</td>\n",
       "      <td>326109</td>\n",
       "      <td>74976.4</td>\n",
       "    </tr>\n",
       "    <tr>\n",
       "      <th>13</th>\n",
       "      <td>240-259</td>\n",
       "      <td>240</td>\n",
       "      <td>259</td>\n",
       "      <td>319896</td>\n",
       "      <td>79954.3</td>\n",
       "    </tr>\n",
       "    <tr>\n",
       "      <th>14</th>\n",
       "      <td>260-279</td>\n",
       "      <td>260</td>\n",
       "      <td>279</td>\n",
       "      <td>312985</td>\n",
       "      <td>84499.8</td>\n",
       "    </tr>\n",
       "    <tr>\n",
       "      <th>15</th>\n",
       "      <td>280-299</td>\n",
       "      <td>280</td>\n",
       "      <td>299</td>\n",
       "      <td>316679</td>\n",
       "      <td>91852.7</td>\n",
       "    </tr>\n",
       "    <tr>\n",
       "      <th>16</th>\n",
       "      <td>300-319</td>\n",
       "      <td>300</td>\n",
       "      <td>319</td>\n",
       "      <td>331590</td>\n",
       "      <td>102793.1</td>\n",
       "    </tr>\n",
       "    <tr>\n",
       "      <th>17</th>\n",
       "      <td>320-339</td>\n",
       "      <td>320</td>\n",
       "      <td>339</td>\n",
       "      <td>339020</td>\n",
       "      <td>111878.5</td>\n",
       "    </tr>\n",
       "    <tr>\n",
       "      <th>18</th>\n",
       "      <td>340-359</td>\n",
       "      <td>340</td>\n",
       "      <td>359</td>\n",
       "      <td>334737</td>\n",
       "      <td>117125.8</td>\n",
       "    </tr>\n",
       "    <tr>\n",
       "      <th>19</th>\n",
       "      <td>360-379</td>\n",
       "      <td>360</td>\n",
       "      <td>379</td>\n",
       "      <td>316004</td>\n",
       "      <td>116856.2</td>\n",
       "    </tr>\n",
       "    <tr>\n",
       "      <th>20</th>\n",
       "      <td>380-399</td>\n",
       "      <td>380</td>\n",
       "      <td>399</td>\n",
       "      <td>288354</td>\n",
       "      <td>112412.6</td>\n",
       "    </tr>\n",
       "    <tr>\n",
       "      <th>21</th>\n",
       "      <td>400-499</td>\n",
       "      <td>400</td>\n",
       "      <td>499</td>\n",
       "      <td>1070963</td>\n",
       "      <td>476652.8</td>\n",
       "    </tr>\n",
       "    <tr>\n",
       "      <th>22</th>\n",
       "      <td>500-599</td>\n",
       "      <td>500</td>\n",
       "      <td>599</td>\n",
       "      <td>493956</td>\n",
       "      <td>268359.6</td>\n",
       "    </tr>\n",
       "    <tr>\n",
       "      <th>23</th>\n",
       "      <td>600-799</td>\n",
       "      <td>600</td>\n",
       "      <td>799</td>\n",
       "      <td>363233</td>\n",
       "      <td>246051.1</td>\n",
       "    </tr>\n",
       "    <tr>\n",
       "      <th>24</th>\n",
       "      <td>800-999</td>\n",
       "      <td>800</td>\n",
       "      <td>999</td>\n",
       "      <td>110353</td>\n",
       "      <td>97493.2</td>\n",
       "    </tr>\n",
       "    <tr>\n",
       "      <th>25</th>\n",
       "      <td>1000+</td>\n",
       "      <td>1000</td>\n",
       "      <td>332000</td>\n",
       "      <td>100652</td>\n",
       "      <td>159248.4</td>\n",
       "    </tr>\n",
       "  </tbody>\n",
       "</table>\n",
       "</div>"
      ],
      "text/plain": [
       "        key  min_    max_  n_people       sum\n",
       "0         0     0       0    497842       0.0\n",
       "1      1-19     1      19    291786    2472.4\n",
       "2     20-39    20      39    164081    4870.8\n",
       "3     40-59    40      59    153923    7702.5\n",
       "4     60-79    60      79    127220    8875.1\n",
       "5     80-99    80      99    181623   16580.2\n",
       "6   100-119   100     119    282285   31267.4\n",
       "7   120-139   120     139    263903   34370.1\n",
       "8   140-159   140     159    299528   44976.2\n",
       "9   160-179   160     179    326987   55617.1\n",
       "10  180-199   180     199    348293   66238.5\n",
       "11  200-219   200     219    334077   70131.3\n",
       "12  220-239   220     239    326109   74976.4\n",
       "13  240-259   240     259    319896   79954.3\n",
       "14  260-279   260     279    312985   84499.8\n",
       "15  280-299   280     299    316679   91852.7\n",
       "16  300-319   300     319    331590  102793.1\n",
       "17  320-339   320     339    339020  111878.5\n",
       "18  340-359   340     359    334737  117125.8\n",
       "19  360-379   360     379    316004  116856.2\n",
       "20  380-399   380     399    288354  112412.6\n",
       "21  400-499   400     499   1070963  476652.8\n",
       "22  500-599   500     599    493956  268359.6\n",
       "23  600-799   600     799    363233  246051.1\n",
       "24  800-999   800     999    110353   97493.2\n",
       "25    1000+  1000  332000    100652  159248.4"
      ]
     },
     "execution_count": 6,
     "metadata": {},
     "output_type": "execute_result"
    }
   ],
   "source": [
    "df"
   ]
  },
  {
   "cell_type": "markdown",
   "metadata": {},
   "source": [
    "## Creating the individual-level approximation"
   ]
  },
  {
   "cell_type": "code",
   "execution_count": 7,
   "metadata": {},
   "outputs": [],
   "source": [
    "inc_data = []\n",
    "for i in range(df.shape[0]):\n",
    "    if i == df.shape[0]-1:\n",
    "        inc_data.append((np.random.exponential(scale=30, size=df.loc[i, 'n_people'])+1)*1000)\n",
    "    else:\n",
    "        inc_data.append(np.random.uniform(low=df.loc[i, 'min_'], high=df.loc[i, 'max_'], size=df.loc[i, 'n_people']))\n",
    "    \n",
    "inc_data = [obs for array in inc_data for obs in array]"
   ]
  },
  {
   "cell_type": "code",
   "execution_count": 8,
   "metadata": {},
   "outputs": [
    {
     "data": {
      "text/plain": [
       "8296079"
      ]
     },
     "execution_count": 8,
     "metadata": {},
     "output_type": "execute_result"
    }
   ],
   "source": [
    "len(inc_data)"
   ]
  },
  {
   "cell_type": "code",
   "execution_count": 9,
   "metadata": {},
   "outputs": [
    {
     "data": {
      "text/plain": [
       "350977.5630688766"
      ]
     },
     "execution_count": 9,
     "metadata": {},
     "output_type": "execute_result"
    }
   ],
   "source": [
    "max(inc_data)"
   ]
  },
  {
   "cell_type": "markdown",
   "metadata": {},
   "source": [
    "# Plot"
   ]
  },
  {
   "cell_type": "code",
   "execution_count": 10,
   "metadata": {},
   "outputs": [
    {
     "data": {
      "image/png": "[encoded data removed]",
      "text/plain": [
       "<Figure size 432x288 with 1 Axes>"
      ]
     },
     "metadata": {
      "needs_background": "light"
     },
     "output_type": "display_data"
    }
   ],
   "source": [
    "plt.hist(inc_data);"
   ]
  },
  {
   "cell_type": "markdown",
   "metadata": {},
   "source": [
    "## Split the plot..."
   ]
  },
  {
   "cell_type": "code",
   "execution_count": 11,
   "metadata": {},
   "outputs": [],
   "source": [
    "df2 = pd.DataFrame({\n",
    "    'incomes':inc_data,\n",
    "    '1m+': np.where(np.array(inc_data)>=1000, 1, 0)\n",
    "})"
   ]
  },
  {
   "cell_type": "code",
   "execution_count": 12,
   "metadata": {},
   "outputs": [
    {
     "data": {
      "image/png": "[encoded data removed]",
      "text/plain": [
       "<Figure size 432x216 with 2 Axes>"
      ]
     },
     "metadata": {
      "needs_background": "light"
     },
     "output_type": "display_data"
    }
   ],
   "source": [
    "p = sns.FacetGrid(df2, col='1m+', sharex=False, sharey=True)\n",
    "p.map_dataframe(plt.hist, 'incomes');"
   ]
  },
  {
   "cell_type": "markdown",
   "metadata": {},
   "source": [
    "# What happens to the sampling distribution when there are extreme outliers?"
   ]
  },
  {
   "cell_type": "code",
   "execution_count": 13,
   "metadata": {},
   "outputs": [],
   "source": [
    "df_working = df2[df2.incomes>0]"
   ]
  },
  {
   "cell_type": "code",
   "execution_count": 14,
   "metadata": {},
   "outputs": [],
   "source": [
    "sampling_dist_100 = []\n",
    "sampling_dist_1000 = []\n",
    "sampling_dist_10000 = []\n",
    "\n",
    "for i in range(1000):\n",
    "    sampling_dist_100.append(np.random.choice(df_working.incomes, 100, replace=False).mean())\n",
    "    sampling_dist_1000.append(np.random.choice(df_working.incomes, 1000, replace=False).mean())\n",
    "    sampling_dist_10000.append(np.random.choice(df_working.incomes, 10000, replace=False).mean())"
   ]
  },
  {
   "cell_type": "code",
   "execution_count": 15,
   "metadata": {},
   "outputs": [
    {
     "data": {
      "image/png": "[encoded data removed]",
      "text/plain": [
       "<Figure size 432x288 with 4 Axes>"
      ]
     },
     "metadata": {
      "needs_background": "light"
     },
     "output_type": "display_data"
    }
   ],
   "source": [
    "samp_dist_df = pd.DataFrame({\n",
    "    '100': sampling_dist_100,\n",
    "    '1000': sampling_dist_1000,\n",
    "    '10000': sampling_dist_10000\n",
    "})\n",
    "\n",
    "samp_dist_df.hist();"
   ]
  },
  {
   "cell_type": "markdown",
   "metadata": {},
   "source": [
    "# Why you shouldn't use distributions with extreme outliers in AB tests"
   ]
  },
  {
   "cell_type": "code",
   "execution_count": null,
   "metadata": {},
   "outputs": [],
   "source": [
    "mean_value = df_working.incomes.mean()\n",
    "\n",
    "plt.hist(df_working[df_working.incomes < 1000]['incomes'])\n",
    "plt.vlines(x=mean_value, ymin=0, ymax=1.6e6, color='k')\n",
    "plt.annotate('mean of distribution', (700, 1e6));"
   ]
  },
  {
   "cell_type": "code",
   "execution_count": null,
   "metadata": {},
   "outputs": [],
   "source": [
    "sorted_incomes = np.sort(df_working.incomes)\n",
    "number_less_than_mean = sum(sorted_incomes < mean_value)\n",
    "\n",
    "print(f'the mean of the distribution corresponds to roughly the {round(number_less_than_mean / sorted_incomes.shape[0], 4)*100} percentile.')"
   ]
  }
 ],
 "metadata": {
  "kernelspec": {
   "display_name": "Python 3",
   "language": "python",
   "name": "python3"
  },
  "language_info": {
   "codemirror_mode": {
    "name": "ipython",
    "version": 3
   },
   "file_extension": ".py",
   "mimetype": "text/x-python",
   "name": "python",
   "nbconvert_exporter": "python",
   "pygments_lexer": "ipython3",
   "version": "3.7.4"
  }
 },
 "nbformat": 4,
 "nbformat_minor": 4
}
