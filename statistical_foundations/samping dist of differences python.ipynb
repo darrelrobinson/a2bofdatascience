{
 "cells": [
  {
   "cell_type": "code",
   "execution_count": 1,
   "metadata": {},
   "outputs": [],
   "source": [
    "import pandas as pd\n",
    "import numpy as np\n",
    "np.random.seed(0)\n",
    "import matplotlib.pyplot as plt\n",
    "%matplotlib inline\n",
    "import seaborn as sns"
   ]
  },
  {
   "cell_type": "code",
   "execution_count": 2,
   "metadata": {},
   "outputs": [
    {
     "data": {
      "text/html": [
       "<div>\n",
       "<style scoped>\n",
       "    .dataframe tbody tr th:only-of-type {\n",
       "        vertical-align: middle;\n",
       "    }\n",
       "\n",
       "    .dataframe tbody tr th {\n",
       "        vertical-align: top;\n",
       "    }\n",
       "\n",
       "    .dataframe thead th {\n",
       "        text-align: right;\n",
       "    }\n",
       "</style>\n",
       "<table border=\"1\" class=\"dataframe\">\n",
       "  <thead>\n",
       "    <tr style=\"text-align: right;\">\n",
       "      <th></th>\n",
       "      <th>variable</th>\n",
       "      <th>value</th>\n",
       "    </tr>\n",
       "  </thead>\n",
       "  <tbody>\n",
       "    <tr>\n",
       "      <th>0</th>\n",
       "      <td>a</td>\n",
       "      <td>1.764052</td>\n",
       "    </tr>\n",
       "    <tr>\n",
       "      <th>1</th>\n",
       "      <td>a</td>\n",
       "      <td>0.400157</td>\n",
       "    </tr>\n",
       "    <tr>\n",
       "      <th>2</th>\n",
       "      <td>a</td>\n",
       "      <td>0.978738</td>\n",
       "    </tr>\n",
       "    <tr>\n",
       "      <th>3</th>\n",
       "      <td>a</td>\n",
       "      <td>2.240893</td>\n",
       "    </tr>\n",
       "    <tr>\n",
       "      <th>4</th>\n",
       "      <td>a</td>\n",
       "      <td>1.867558</td>\n",
       "    </tr>\n",
       "    <tr>\n",
       "      <th>...</th>\n",
       "      <td>...</td>\n",
       "      <td>...</td>\n",
       "    </tr>\n",
       "    <tr>\n",
       "      <th>1999995</th>\n",
       "      <td>b</td>\n",
       "      <td>3.035327</td>\n",
       "    </tr>\n",
       "    <tr>\n",
       "      <th>1999996</th>\n",
       "      <td>b</td>\n",
       "      <td>1.506580</td>\n",
       "    </tr>\n",
       "    <tr>\n",
       "      <th>1999997</th>\n",
       "      <td>b</td>\n",
       "      <td>0.180091</td>\n",
       "    </tr>\n",
       "    <tr>\n",
       "      <th>1999998</th>\n",
       "      <td>b</td>\n",
       "      <td>1.669387</td>\n",
       "    </tr>\n",
       "    <tr>\n",
       "      <th>1999999</th>\n",
       "      <td>b</td>\n",
       "      <td>1.611091</td>\n",
       "    </tr>\n",
       "  </tbody>\n",
       "</table>\n",
       "<p>2000000 rows × 2 columns</p>\n",
       "</div>"
      ],
      "text/plain": [
       "        variable     value\n",
       "0              a  1.764052\n",
       "1              a  0.400157\n",
       "2              a  0.978738\n",
       "3              a  2.240893\n",
       "4              a  1.867558\n",
       "...          ...       ...\n",
       "1999995        b  3.035327\n",
       "1999996        b  1.506580\n",
       "1999997        b  0.180091\n",
       "1999998        b  1.669387\n",
       "1999999        b  1.611091\n",
       "\n",
       "[2000000 rows x 2 columns]"
      ]
     },
     "execution_count": 2,
     "metadata": {},
     "output_type": "execute_result"
    }
   ],
   "source": [
    "a = np.random.normal(0, 1, 1000000)\n",
    "b = np.random.normal(2, 1, 1000000)\n",
    "\n",
    "data = pd.DataFrame({\n",
    "    'a': a,\n",
    "    'b': b\n",
    "}).melt()\n",
    "\n",
    "data"
   ]
  },
  {
   "cell_type": "code",
   "execution_count": 3,
   "metadata": {},
   "outputs": [
    {
     "data": {
      "image/png": "[encoded data removed]",
      "text/plain": [
       "<Figure size 432x216 with 2 Axes>"
      ]
     },
     "metadata": {
      "needs_background": "light"
     },
     "output_type": "display_data"
    }
   ],
   "source": [
    "p = sns.FacetGrid(data, col='variable')\n",
    "p.map_dataframe(sns.histplot, x='value');"
   ]
  },
  {
   "cell_type": "markdown",
   "metadata": {},
   "source": [
    "## An AB test"
   ]
  },
  {
   "cell_type": "code",
   "execution_count": 4,
   "metadata": {},
   "outputs": [
    {
     "data": {
      "text/plain": [
       "2.0091029083514456"
      ]
     },
     "execution_count": 4,
     "metadata": {},
     "output_type": "execute_result"
    }
   ],
   "source": [
    "a_sample = np.random.choice(list(a), 1000)\n",
    "b_sample = np.random.choice(list(b), 1000)\n",
    "\n",
    "b_sample.mean() - a_sample.mean()"
   ]
  },
  {
   "cell_type": "code",
   "execution_count": 5,
   "metadata": {},
   "outputs": [
    {
     "name": "stdout",
     "output_type": "stream",
     "text": [
      "diff: 2.0091 \t se: 0.0459\n"
     ]
    }
   ],
   "source": [
    "mean_a = a_sample.mean()\n",
    "sd_a = a_sample.std()\n",
    "n_a = len(a_sample)\n",
    "mean_b = b_sample.mean()\n",
    "sd_b = a_sample.std()\n",
    "n_b = len(b_sample)\n",
    "\n",
    "# t test\n",
    "diff = mean_b - mean_a\n",
    "se = np.sqrt(sd_a**2 / n_a + sd_b**2 / n_b)\n",
    "\n",
    "print(f'diff: {round(diff, 4)} \\t se: {round(se, 4)}')"
   ]
  },
  {
   "cell_type": "markdown",
   "metadata": {},
   "source": [
    "## Many AB tests"
   ]
  },
  {
   "cell_type": "code",
   "execution_count": 6,
   "metadata": {},
   "outputs": [
    {
     "data": {
      "text/plain": [
       "[1.960995370176192,\n",
       " 1.9883898394478738,\n",
       " 2.031780392370446,\n",
       " 1.987619093692953,\n",
       " 1.922992592703907]"
      ]
     },
     "execution_count": 6,
     "metadata": {},
     "output_type": "execute_result"
    }
   ],
   "source": [
    "ab_diff_means = []\n",
    "\n",
    "for i in range(5000):\n",
    "    a_sample_ = np.random.choice(a, 1000)\n",
    "    b_sample_ = np.random.choice(b, 1000)\n",
    "    ab_diff_means.append(b_sample_.mean() - a_sample_.mean())\n",
    "\n",
    "ab_diff_means[:5]"
   ]
  },
  {
   "cell_type": "code",
   "execution_count": 7,
   "metadata": {},
   "outputs": [
    {
     "data": {
      "image/png": "[encoded data removed]",
      "text/plain": [
       "<Figure size 432x288 with 1 Axes>"
      ]
     },
     "metadata": {
      "needs_background": "light"
     },
     "output_type": "display_data"
    }
   ],
   "source": [
    "plt.hist(ab_diff_means, bins=50);"
   ]
  },
  {
   "cell_type": "code",
   "execution_count": 8,
   "metadata": {},
   "outputs": [
    {
     "name": "stdout",
     "output_type": "stream",
     "text": [
      "parameteric standard error: 0.045891, \n",
      " standard deviation of samp dist: 0.044306\n"
     ]
    }
   ],
   "source": [
    "print(f'parameteric standard error: {round(se, 6)}, \\n standard deviation of samp dist: {round(np.std(ab_diff_means), 6)}')"
   ]
  },
  {
   "cell_type": "markdown",
   "metadata": {},
   "source": [
    "# Sampling dist of p"
   ]
  },
  {
   "cell_type": "code",
   "execution_count": 9,
   "metadata": {},
   "outputs": [],
   "source": [
    "a_prop_population = np.random.binomial(1, 0.3, 1000000)\n",
    "b_prop_population = np.random.binomial(1, 0.5, 1000000)"
   ]
  },
  {
   "cell_type": "code",
   "execution_count": 10,
   "metadata": {},
   "outputs": [
    {
     "data": {
      "image/png": "[encoded data removed]",
      "text/plain": [
       "<Figure size 432x288 with 1 Axes>"
      ]
     },
     "metadata": {
      "needs_background": "light"
     },
     "output_type": "display_data"
    }
   ],
   "source": [
    "index = np.arange(0, 2)\n",
    "a_heights = [1 - a_prop_population.mean(), a_prop_population.mean()]\n",
    "b_heights = [1 - b_prop_population.mean(), b_prop_population.mean()]\n",
    "bar_width = 0.2\n",
    "\n",
    "plt.bar(index, a_heights, bar_width, label='A')\n",
    "plt.bar(index + bar_width, b_heights, bar_width, label='B')\n",
    "plt.legend();"
   ]
  },
  {
   "cell_type": "code",
   "execution_count": 11,
   "metadata": {},
   "outputs": [],
   "source": [
    "a_sample_prop = np.random.choice(a_prop_population, 1000)\n",
    "b_sample_prop = np.random.choice(b_prop_population, 1000)\n",
    "\n",
    "a_prop = a_sample_prop.mean()\n",
    "b_prop = b_sample_prop.mean()\n",
    "ab_prop_diff = b_prop - a_prop\n",
    "\n",
    "# binomial proportions test\n",
    "a_prop_n = len(a_sample)\n",
    "b_prop_n = len(b_sample)\n",
    "\n",
    "ab_prop_se = np.sqrt(a_prop*(1-a_prop)/a_prop_n + b_prop*(1-b_prop)/b_prop_n)"
   ]
  },
  {
   "cell_type": "code",
   "execution_count": 12,
   "metadata": {},
   "outputs": [
    {
     "data": {
      "text/plain": [
       "0.196"
      ]
     },
     "execution_count": 12,
     "metadata": {},
     "output_type": "execute_result"
    }
   ],
   "source": [
    "ab_prop_diff"
   ]
  },
  {
   "cell_type": "code",
   "execution_count": 13,
   "metadata": {},
   "outputs": [
    {
     "data": {
      "text/plain": [
       "0.021466066244191086"
      ]
     },
     "execution_count": 13,
     "metadata": {},
     "output_type": "execute_result"
    }
   ],
   "source": [
    "ab_prop_se"
   ]
  },
  {
   "cell_type": "markdown",
   "metadata": {},
   "source": [
    "# Sampling dist of p"
   ]
  },
  {
   "cell_type": "code",
   "execution_count": 14,
   "metadata": {},
   "outputs": [
    {
     "data": {
      "image/png": "[encoded data removed]",
      "text/plain": [
       "<Figure size 432x288 with 1 Axes>"
      ]
     },
     "metadata": {
      "needs_background": "light"
     },
     "output_type": "display_data"
    }
   ],
   "source": [
    "ab_diff_proportions = []\n",
    "for i in range(5000):\n",
    "    a_sample_ = np.random.choice(a_prop_population, 1000)\n",
    "    b_sample_ = np.random.choice(b_prop_population, 1000)\n",
    "    ab_diff_proportions.append(b_sample_.mean() - a_sample_.mean())\n",
    "\n",
    "plt.hist(ab_diff_proportions, bins=50);"
   ]
  },
  {
   "cell_type": "code",
   "execution_count": 15,
   "metadata": {},
   "outputs": [
    {
     "data": {
      "text/plain": [
       "0.1997676"
      ]
     },
     "execution_count": 15,
     "metadata": {},
     "output_type": "execute_result"
    }
   ],
   "source": [
    "np.array(ab_diff_proportions).mean()"
   ]
  },
  {
   "cell_type": "code",
   "execution_count": 16,
   "metadata": {},
   "outputs": [
    {
     "name": "stdout",
     "output_type": "stream",
     "text": [
      "standard deviation of samp dist: 0.021407       \n",
      " parameteric standard error: 0.021466\n"
     ]
    }
   ],
   "source": [
    "print(f'standard deviation of samp dist: {round(np.array(ab_diff_proportions).std(), 6)} \\\n",
    "      \\n parameteric standard error: {round(ab_prop_se, 6)}')"
   ]
  }
 ],
 "metadata": {
  "kernelspec": {
   "display_name": "Python 3",
   "language": "python",
   "name": "python3"
  },
  "language_info": {
   "codemirror_mode": {
    "name": "ipython",
    "version": 3
   },
   "file_extension": ".py",
   "mimetype": "text/x-python",
   "name": "python",
   "nbconvert_exporter": "python",
   "pygments_lexer": "ipython3",
   "version": "3.7.4"
  }
 },
 "nbformat": 4,
 "nbformat_minor": 4
}
