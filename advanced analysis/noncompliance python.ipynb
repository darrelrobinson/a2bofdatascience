{
 "cells": [
  {
   "cell_type": "code",
   "execution_count": 1,
   "metadata": {},
   "outputs": [],
   "source": [
    "import pandas as pd\n",
    "import numpy as np\n",
    "np.random.seed(143)\n",
    "\n",
    "import matplotlib.pyplot as plt\n",
    "%matplotlib inline\n",
    "import seaborn as sns"
   ]
  },
  {
   "cell_type": "code",
   "execution_count": 2,
   "metadata": {},
   "outputs": [],
   "source": [
    "treatment_status = np.random.binomial(1, 0.5, 1000)\n",
    "y_under_control = np.random.normal(10, 1, 1000)\n",
    "treatment_effect = np.random.normal(2, 0.1, 1000)\n",
    "y_under_treatment = y_under_control + treatment_effect\n",
    "y_observed = y_under_control + treatment_effect*treatment_status"
   ]
  },
  {
   "cell_type": "code",
   "execution_count": 3,
   "metadata": {},
   "outputs": [
    {
     "data": {
      "text/html": [
       "<div>\n",
       "<style scoped>\n",
       "    .dataframe tbody tr th:only-of-type {\n",
       "        vertical-align: middle;\n",
       "    }\n",
       "\n",
       "    .dataframe tbody tr th {\n",
       "        vertical-align: top;\n",
       "    }\n",
       "\n",
       "    .dataframe thead th {\n",
       "        text-align: right;\n",
       "    }\n",
       "</style>\n",
       "<table border=\"1\" class=\"dataframe\">\n",
       "  <thead>\n",
       "    <tr style=\"text-align: right;\">\n",
       "      <th></th>\n",
       "      <th>treatment_status</th>\n",
       "      <th>y_under_control</th>\n",
       "      <th>treatment_effect</th>\n",
       "      <th>y_under_treatment</th>\n",
       "      <th>y_observed</th>\n",
       "    </tr>\n",
       "  </thead>\n",
       "  <tbody>\n",
       "    <tr>\n",
       "      <th>0</th>\n",
       "      <td>1</td>\n",
       "      <td>10.172693</td>\n",
       "      <td>1.758233</td>\n",
       "      <td>11.930926</td>\n",
       "      <td>11.930926</td>\n",
       "    </tr>\n",
       "    <tr>\n",
       "      <th>1</th>\n",
       "      <td>1</td>\n",
       "      <td>10.280985</td>\n",
       "      <td>2.062013</td>\n",
       "      <td>12.342998</td>\n",
       "      <td>12.342998</td>\n",
       "    </tr>\n",
       "    <tr>\n",
       "      <th>2</th>\n",
       "      <td>0</td>\n",
       "      <td>10.574830</td>\n",
       "      <td>2.017143</td>\n",
       "      <td>12.591973</td>\n",
       "      <td>10.574830</td>\n",
       "    </tr>\n",
       "    <tr>\n",
       "      <th>3</th>\n",
       "      <td>1</td>\n",
       "      <td>10.319585</td>\n",
       "      <td>2.043524</td>\n",
       "      <td>12.363110</td>\n",
       "      <td>12.363110</td>\n",
       "    </tr>\n",
       "    <tr>\n",
       "      <th>4</th>\n",
       "      <td>0</td>\n",
       "      <td>10.421973</td>\n",
       "      <td>1.827997</td>\n",
       "      <td>12.249970</td>\n",
       "      <td>10.421973</td>\n",
       "    </tr>\n",
       "  </tbody>\n",
       "</table>\n",
       "</div>"
      ],
      "text/plain": [
       "   treatment_status  y_under_control  treatment_effect  y_under_treatment  \\\n",
       "0                 1        10.172693          1.758233          11.930926   \n",
       "1                 1        10.280985          2.062013          12.342998   \n",
       "2                 0        10.574830          2.017143          12.591973   \n",
       "3                 1        10.319585          2.043524          12.363110   \n",
       "4                 0        10.421973          1.827997          12.249970   \n",
       "\n",
       "   y_observed  \n",
       "0   11.930926  \n",
       "1   12.342998  \n",
       "2   10.574830  \n",
       "3   12.363110  \n",
       "4   10.421973  "
      ]
     },
     "execution_count": 3,
     "metadata": {},
     "output_type": "execute_result"
    }
   ],
   "source": [
    "data = pd.DataFrame({\n",
    "    'treatment_status': np.random.binomial(1, 0.5, 1000),\n",
    "    'y_under_control': np.random.normal(10, 1, 1000),\n",
    "    'treatment_effect': np.random.normal(2, 0.1, 1000),\n",
    "}).assign(\n",
    "    y_under_treatment = lambda x: x.y_under_control + x.treatment_effect,\n",
    "    y_observed = lambda x: x.y_under_control + x.treatment_effect*x.treatment_status\n",
    ")\n",
    "\n",
    "data.head()"
   ]
  },
  {
   "cell_type": "markdown",
   "metadata": {},
   "source": [
    "### ACE"
   ]
  },
  {
   "cell_type": "code",
   "execution_count": 4,
   "metadata": {},
   "outputs": [
    {
     "data": {
      "text/plain": [
       "treatment_status\n",
       "0    10.042473\n",
       "1    12.051439\n",
       "Name: y_observed, dtype: float64"
      ]
     },
     "execution_count": 4,
     "metadata": {},
     "output_type": "execute_result"
    }
   ],
   "source": [
    "data.groupby('treatment_status').y_observed.mean()"
   ]
  },
  {
   "cell_type": "code",
   "execution_count": 5,
   "metadata": {},
   "outputs": [
    {
     "data": {
      "text/plain": [
       "y_under_control      10.050287\n",
       "y_under_treatment    12.043651\n",
       "dtype: float64"
      ]
     },
     "execution_count": 5,
     "metadata": {},
     "output_type": "execute_result"
    }
   ],
   "source": [
    "data[['y_under_control', 'y_under_treatment']].mean()"
   ]
  },
  {
   "cell_type": "markdown",
   "metadata": {},
   "source": [
    "### Noncompliance"
   ]
  },
  {
   "cell_type": "code",
   "execution_count": 6,
   "metadata": {},
   "outputs": [
    {
     "data": {
      "text/html": [
       "<div>\n",
       "<style scoped>\n",
       "    .dataframe tbody tr th:only-of-type {\n",
       "        vertical-align: middle;\n",
       "    }\n",
       "\n",
       "    .dataframe tbody tr th {\n",
       "        vertical-align: top;\n",
       "    }\n",
       "\n",
       "    .dataframe thead th {\n",
       "        text-align: right;\n",
       "    }\n",
       "</style>\n",
       "<table border=\"1\" class=\"dataframe\">\n",
       "  <thead>\n",
       "    <tr style=\"text-align: right;\">\n",
       "      <th></th>\n",
       "      <th>treatment_status</th>\n",
       "      <th>y_under_control</th>\n",
       "      <th>treatment_effect</th>\n",
       "      <th>y_under_treatment</th>\n",
       "      <th>y_observed</th>\n",
       "      <th>compliance</th>\n",
       "    </tr>\n",
       "  </thead>\n",
       "  <tbody>\n",
       "    <tr>\n",
       "      <th>0</th>\n",
       "      <td>1</td>\n",
       "      <td>10.172693</td>\n",
       "      <td>1.758233</td>\n",
       "      <td>11.930926</td>\n",
       "      <td>10.172693</td>\n",
       "      <td>0</td>\n",
       "    </tr>\n",
       "    <tr>\n",
       "      <th>1</th>\n",
       "      <td>1</td>\n",
       "      <td>10.280985</td>\n",
       "      <td>2.062013</td>\n",
       "      <td>12.342998</td>\n",
       "      <td>10.280985</td>\n",
       "      <td>0</td>\n",
       "    </tr>\n",
       "    <tr>\n",
       "      <th>2</th>\n",
       "      <td>0</td>\n",
       "      <td>10.574830</td>\n",
       "      <td>2.017143</td>\n",
       "      <td>12.591973</td>\n",
       "      <td>10.574830</td>\n",
       "      <td>0</td>\n",
       "    </tr>\n",
       "    <tr>\n",
       "      <th>3</th>\n",
       "      <td>1</td>\n",
       "      <td>10.319585</td>\n",
       "      <td>2.043524</td>\n",
       "      <td>12.363110</td>\n",
       "      <td>12.363110</td>\n",
       "      <td>1</td>\n",
       "    </tr>\n",
       "    <tr>\n",
       "      <th>4</th>\n",
       "      <td>0</td>\n",
       "      <td>10.421973</td>\n",
       "      <td>1.827997</td>\n",
       "      <td>12.249970</td>\n",
       "      <td>10.421973</td>\n",
       "      <td>0</td>\n",
       "    </tr>\n",
       "  </tbody>\n",
       "</table>\n",
       "</div>"
      ],
      "text/plain": [
       "   treatment_status  y_under_control  treatment_effect  y_under_treatment  \\\n",
       "0                 1        10.172693          1.758233          11.930926   \n",
       "1                 1        10.280985          2.062013          12.342998   \n",
       "2                 0        10.574830          2.017143          12.591973   \n",
       "3                 1        10.319585          2.043524          12.363110   \n",
       "4                 0        10.421973          1.827997          12.249970   \n",
       "\n",
       "   y_observed  compliance  \n",
       "0   10.172693           0  \n",
       "1   10.280985           0  \n",
       "2   10.574830           0  \n",
       "3   12.363110           1  \n",
       "4   10.421973           0  "
      ]
     },
     "execution_count": 6,
     "metadata": {},
     "output_type": "execute_result"
    }
   ],
   "source": [
    "noncompliance_data = data.copy()\n",
    "noncompliance_data['compliance'] = np.random.binomial(1, 0.5, 1000)\n",
    "noncompliance_data['y_observed'] = noncompliance_data.y_under_control + noncompliance_data.treatment_effect*noncompliance_data.treatment_status*noncompliance_data.compliance\n",
    "\n",
    "noncompliance_data.head()"
   ]
  },
  {
   "cell_type": "code",
   "execution_count": 7,
   "metadata": {},
   "outputs": [
    {
     "data": {
      "text/plain": [
       "treatment_status\n",
       "0    10.042473\n",
       "1    11.054366\n",
       "Name: y_observed, dtype: float64"
      ]
     },
     "execution_count": 7,
     "metadata": {},
     "output_type": "execute_result"
    }
   ],
   "source": [
    "noncompliance_data.groupby('treatment_status').y_observed.mean()"
   ]
  },
  {
   "cell_type": "code",
   "execution_count": 8,
   "metadata": {},
   "outputs": [
    {
     "data": {
      "text/html": [
       "<div>\n",
       "<style scoped>\n",
       "    .dataframe tbody tr th:only-of-type {\n",
       "        vertical-align: middle;\n",
       "    }\n",
       "\n",
       "    .dataframe tbody tr th {\n",
       "        vertical-align: top;\n",
       "    }\n",
       "\n",
       "    .dataframe thead th {\n",
       "        text-align: right;\n",
       "    }\n",
       "</style>\n",
       "<table border=\"1\" class=\"dataframe\">\n",
       "  <thead>\n",
       "    <tr style=\"text-align: right;\">\n",
       "      <th>compliance</th>\n",
       "      <th>0</th>\n",
       "      <th>1</th>\n",
       "    </tr>\n",
       "    <tr>\n",
       "      <th>treatment_status</th>\n",
       "      <th></th>\n",
       "      <th></th>\n",
       "    </tr>\n",
       "  </thead>\n",
       "  <tbody>\n",
       "    <tr>\n",
       "      <th>0</th>\n",
       "      <td>0.275</td>\n",
       "      <td>0.262</td>\n",
       "    </tr>\n",
       "    <tr>\n",
       "      <th>1</th>\n",
       "      <td>0.232</td>\n",
       "      <td>0.231</td>\n",
       "    </tr>\n",
       "  </tbody>\n",
       "</table>\n",
       "</div>"
      ],
      "text/plain": [
       "compliance            0      1\n",
       "treatment_status              \n",
       "0                 0.275  0.262\n",
       "1                 0.232  0.231"
      ]
     },
     "execution_count": 8,
     "metadata": {},
     "output_type": "execute_result"
    }
   ],
   "source": [
    "pd.crosstab(noncompliance_data.treatment_status, noncompliance_data.compliance) / 1000"
   ]
  },
  {
   "cell_type": "markdown",
   "metadata": {},
   "source": [
    "### CACE"
   ]
  },
  {
   "cell_type": "code",
   "execution_count": 9,
   "metadata": {},
   "outputs": [
    {
     "name": "stdout",
     "output_type": "stream",
     "text": [
      "the estimated CACE is: 2.028167205694592\n"
     ]
    }
   ],
   "source": [
    "treated_compliers = noncompliance_data[(noncompliance_data.compliance==1) & (noncompliance_data.treatment_status==1)].shape[0]\n",
    "total_treated = noncompliance_data[noncompliance_data.treatment_status==1].shape[0]\n",
    "proportion_compliers = treated_compliers / total_treated\n",
    "\n",
    "observed_outcomes = noncompliance_data.groupby('treatment_status').y_observed.mean()\n",
    "cace = observed_outcomes.diff()[1] / proportion_compliers\n",
    "\n",
    "print(f'the estimated CACE is: {cace}')"
   ]
  },
  {
   "cell_type": "code",
   "execution_count": 10,
   "metadata": {},
   "outputs": [
    {
     "data": {
      "text/html": [
       "<div>\n",
       "<style scoped>\n",
       "    .dataframe tbody tr th:only-of-type {\n",
       "        vertical-align: middle;\n",
       "    }\n",
       "\n",
       "    .dataframe tbody tr th {\n",
       "        vertical-align: top;\n",
       "    }\n",
       "\n",
       "    .dataframe thead th {\n",
       "        text-align: right;\n",
       "    }\n",
       "</style>\n",
       "<table border=\"1\" class=\"dataframe\">\n",
       "  <thead>\n",
       "    <tr style=\"text-align: right;\">\n",
       "      <th></th>\n",
       "      <th></th>\n",
       "      <th>y_under_control</th>\n",
       "      <th>y_under_treatment</th>\n",
       "    </tr>\n",
       "    <tr>\n",
       "      <th>treatment_status</th>\n",
       "      <th>compliance</th>\n",
       "      <th></th>\n",
       "      <th></th>\n",
       "    </tr>\n",
       "  </thead>\n",
       "  <tbody>\n",
       "    <tr>\n",
       "      <th rowspan=\"2\" valign=\"top\">0</th>\n",
       "      <th>0</th>\n",
       "      <td>10.042668</td>\n",
       "      <td>12.029527</td>\n",
       "    </tr>\n",
       "    <tr>\n",
       "      <th>1</th>\n",
       "      <td>10.042268</td>\n",
       "      <td>12.044713</td>\n",
       "    </tr>\n",
       "    <tr>\n",
       "      <th rowspan=\"2\" valign=\"top\">1</th>\n",
       "      <th>0</th>\n",
       "      <td>10.015524</td>\n",
       "      <td>12.005372</td>\n",
       "    </tr>\n",
       "    <tr>\n",
       "      <th>1</th>\n",
       "      <td>10.103366</td>\n",
       "      <td>12.097705</td>\n",
       "    </tr>\n",
       "  </tbody>\n",
       "</table>\n",
       "</div>"
      ],
      "text/plain": [
       "                             y_under_control  y_under_treatment\n",
       "treatment_status compliance                                    \n",
       "0                0                 10.042668          12.029527\n",
       "                 1                 10.042268          12.044713\n",
       "1                0                 10.015524          12.005372\n",
       "                 1                 10.103366          12.097705"
      ]
     },
     "execution_count": 10,
     "metadata": {},
     "output_type": "execute_result"
    }
   ],
   "source": [
    "noncompliance_data.groupby(['treatment_status', 'compliance'])[['y_under_control', 'y_under_treatment']].mean()"
   ]
  },
  {
   "cell_type": "code",
   "execution_count": 11,
   "metadata": {},
   "outputs": [
    {
     "data": {
      "text/plain": [
       "2.0552326754025962"
      ]
     },
     "execution_count": 11,
     "metadata": {},
     "output_type": "execute_result"
    }
   ],
   "source": [
    "treated_complier_mean = noncompliance_data[(noncompliance_data.treatment_status==1) & (noncompliance_data.compliance==1)].y_observed.mean()\n",
    "control_mean = noncompliance_data[noncompliance_data.treatment_status==0].y_observed.mean()\n",
    "\n",
    "treated_complier_mean - control_mean"
   ]
  },
  {
   "cell_type": "markdown",
   "metadata": {},
   "source": [
    "### Nonrandom compliance"
   ]
  },
  {
   "cell_type": "code",
   "execution_count": 12,
   "metadata": {},
   "outputs": [
    {
     "data": {
      "text/html": [
       "<div>\n",
       "<style scoped>\n",
       "    .dataframe tbody tr th:only-of-type {\n",
       "        vertical-align: middle;\n",
       "    }\n",
       "\n",
       "    .dataframe tbody tr th {\n",
       "        vertical-align: top;\n",
       "    }\n",
       "\n",
       "    .dataframe thead th {\n",
       "        text-align: right;\n",
       "    }\n",
       "</style>\n",
       "<table border=\"1\" class=\"dataframe\">\n",
       "  <thead>\n",
       "    <tr style=\"text-align: right;\">\n",
       "      <th></th>\n",
       "      <th>compliance</th>\n",
       "      <th>treated_complier</th>\n",
       "      <th>treatment_status</th>\n",
       "      <th>treatment_effect</th>\n",
       "      <th>y_under_control</th>\n",
       "      <th>y_under_treatment</th>\n",
       "      <th>y_observed</th>\n",
       "    </tr>\n",
       "  </thead>\n",
       "  <tbody>\n",
       "    <tr>\n",
       "      <th>0</th>\n",
       "      <td>0</td>\n",
       "      <td>0</td>\n",
       "      <td>1</td>\n",
       "      <td>1.905366</td>\n",
       "      <td>10.059335</td>\n",
       "      <td>11.964700</td>\n",
       "      <td>10.059335</td>\n",
       "    </tr>\n",
       "    <tr>\n",
       "      <th>1</th>\n",
       "      <td>1</td>\n",
       "      <td>0</td>\n",
       "      <td>0</td>\n",
       "      <td>2.101608</td>\n",
       "      <td>10.942760</td>\n",
       "      <td>13.044368</td>\n",
       "      <td>10.942760</td>\n",
       "    </tr>\n",
       "    <tr>\n",
       "      <th>2</th>\n",
       "      <td>0</td>\n",
       "      <td>0</td>\n",
       "      <td>1</td>\n",
       "      <td>2.010826</td>\n",
       "      <td>7.138338</td>\n",
       "      <td>9.149164</td>\n",
       "      <td>7.138338</td>\n",
       "    </tr>\n",
       "    <tr>\n",
       "      <th>3</th>\n",
       "      <td>1</td>\n",
       "      <td>1</td>\n",
       "      <td>1</td>\n",
       "      <td>2.017061</td>\n",
       "      <td>11.819005</td>\n",
       "      <td>13.836066</td>\n",
       "      <td>13.836066</td>\n",
       "    </tr>\n",
       "    <tr>\n",
       "      <th>4</th>\n",
       "      <td>0</td>\n",
       "      <td>0</td>\n",
       "      <td>0</td>\n",
       "      <td>2.083198</td>\n",
       "      <td>7.944678</td>\n",
       "      <td>10.027876</td>\n",
       "      <td>7.944678</td>\n",
       "    </tr>\n",
       "  </tbody>\n",
       "</table>\n",
       "</div>"
      ],
      "text/plain": [
       "   compliance  treated_complier  treatment_status  treatment_effect  \\\n",
       "0           0                 0                 1          1.905366   \n",
       "1           1                 0                 0          2.101608   \n",
       "2           0                 0                 1          2.010826   \n",
       "3           1                 1                 1          2.017061   \n",
       "4           0                 0                 0          2.083198   \n",
       "\n",
       "   y_under_control  y_under_treatment  y_observed  \n",
       "0        10.059335          11.964700   10.059335  \n",
       "1        10.942760          13.044368   10.942760  \n",
       "2         7.138338           9.149164    7.138338  \n",
       "3        11.819005          13.836066   13.836066  \n",
       "4         7.944678          10.027876    7.944678  "
      ]
     },
     "execution_count": 12,
     "metadata": {},
     "output_type": "execute_result"
    }
   ],
   "source": [
    "treatment_status = np.random.binomial(1, 0.5, 1000)\n",
    "treatment_effect = np.random.normal(2, 0.1, 1000)\n",
    "y_under_control = np.random.normal(10, 1, 1000)\n",
    "y_under_treatment = y_under_control + treatment_effect\n",
    "\n",
    "q75 = np.quantile(y_under_control, q=0.75)\n",
    "compliance = np.where(y_under_control >= q75, 1, 0)\n",
    "y_observed = y_under_control + treatment_effect*treatment_status*compliance\n",
    "treated_complier = treatment_status*compliance\n",
    "\n",
    "nr_noncompliance_data = pd.DataFrame({\n",
    "    'compliance': compliance,\n",
    "    'treated_complier': treated_complier,\n",
    "    'treatment_status': treatment_status,\n",
    "    'treatment_effect': treatment_effect,\n",
    "    'y_under_control': y_under_control,\n",
    "    'y_under_treatment': y_under_treatment,\n",
    "    'y_observed': y_observed\n",
    "})\n",
    "\n",
    "nr_noncompliance_data.head()"
   ]
  },
  {
   "cell_type": "code",
   "execution_count": 13,
   "metadata": {},
   "outputs": [
    {
     "data": {
      "text/html": [
       "<div>\n",
       "<style scoped>\n",
       "    .dataframe tbody tr th:only-of-type {\n",
       "        vertical-align: middle;\n",
       "    }\n",
       "\n",
       "    .dataframe tbody tr th {\n",
       "        vertical-align: top;\n",
       "    }\n",
       "\n",
       "    .dataframe thead th {\n",
       "        text-align: right;\n",
       "    }\n",
       "</style>\n",
       "<table border=\"1\" class=\"dataframe\">\n",
       "  <thead>\n",
       "    <tr style=\"text-align: right;\">\n",
       "      <th></th>\n",
       "      <th></th>\n",
       "      <th>y_under_control</th>\n",
       "      <th>y_under_treatment</th>\n",
       "    </tr>\n",
       "    <tr>\n",
       "      <th>treatment_status</th>\n",
       "      <th>compliance</th>\n",
       "      <th></th>\n",
       "      <th></th>\n",
       "    </tr>\n",
       "  </thead>\n",
       "  <tbody>\n",
       "    <tr>\n",
       "      <th rowspan=\"2\" valign=\"top\">0</th>\n",
       "      <th>0</th>\n",
       "      <td>9.663208</td>\n",
       "      <td>11.668243</td>\n",
       "    </tr>\n",
       "    <tr>\n",
       "      <th>1</th>\n",
       "      <td>11.326781</td>\n",
       "      <td>13.339515</td>\n",
       "    </tr>\n",
       "    <tr>\n",
       "      <th rowspan=\"2\" valign=\"top\">1</th>\n",
       "      <th>0</th>\n",
       "      <td>9.563698</td>\n",
       "      <td>11.570943</td>\n",
       "    </tr>\n",
       "    <tr>\n",
       "      <th>1</th>\n",
       "      <td>11.330241</td>\n",
       "      <td>13.341158</td>\n",
       "    </tr>\n",
       "  </tbody>\n",
       "</table>\n",
       "</div>"
      ],
      "text/plain": [
       "                             y_under_control  y_under_treatment\n",
       "treatment_status compliance                                    \n",
       "0                0                  9.663208          11.668243\n",
       "                 1                 11.326781          13.339515\n",
       "1                0                  9.563698          11.570943\n",
       "                 1                 11.330241          13.341158"
      ]
     },
     "execution_count": 13,
     "metadata": {},
     "output_type": "execute_result"
    }
   ],
   "source": [
    "nr_noncompliance_data.groupby(['treatment_status', 'compliance'])[['y_under_control', 'y_under_treatment']].mean()"
   ]
  },
  {
   "cell_type": "code",
   "execution_count": 14,
   "metadata": {},
   "outputs": [
    {
     "data": {
      "text/plain": [
       "2.798389267683973"
      ]
     },
     "execution_count": 14,
     "metadata": {},
     "output_type": "execute_result"
    }
   ],
   "source": [
    "treated_compliers = nr_noncompliance_data[nr_noncompliance_data.treated_complier==1].y_observed.mean()\n",
    "control = nr_noncompliance_data[nr_noncompliance_data.treatment_status==1].y_observed.mean()\n",
    "\n",
    "treated_compliers - control"
   ]
  },
  {
   "cell_type": "code",
   "execution_count": 15,
   "metadata": {},
   "outputs": [],
   "source": [
    "ITT = nr_noncompliance_data.groupby('treatment_status').y_observed.mean().diff()[1]\n",
    "proportion_compliers_in_treated = nr_noncompliance_data[nr_noncompliance_data.treated_complier==1].shape[0] / nr_noncompliance_data[nr_noncompliance_data.treatment_status==1].shape[0]\n",
    "CACE = ITT / proportion_compliers_in_treated"
   ]
  },
  {
   "cell_type": "code",
   "execution_count": 16,
   "metadata": {},
   "outputs": [
    {
     "data": {
      "text/plain": [
       "1.852046400048409"
      ]
     },
     "execution_count": 16,
     "metadata": {},
     "output_type": "execute_result"
    }
   ],
   "source": [
    "CACE"
   ]
  },
  {
   "cell_type": "markdown",
   "metadata": {},
   "source": [
    "### IV regression"
   ]
  },
  {
   "cell_type": "code",
   "execution_count": 17,
   "metadata": {},
   "outputs": [
    {
     "name": "stderr",
     "output_type": "stream",
     "text": [
      "//anaconda3/lib/python3.7/site-packages/linearmodels/iv/data.py:25: FutureWarning: is_categorical is deprecated and will be removed in a future version.  Use is_categorical_dtype instead\n",
      "  if is_categorical(s):\n"
     ]
    },
    {
     "data": {
      "text/html": [
       "<table class=\"simpletable\">\n",
       "<caption>IV-2SLS Estimation Summary</caption>\n",
       "<tr>\n",
       "  <th>Dep. Variable:</th>       <td>y_observed</td>    <th>  R-squared:         </th> <td>0.5051</td> \n",
       "</tr>\n",
       "<tr>\n",
       "  <th>Estimator:</th>             <td>IV-2SLS</td>     <th>  Adj. R-squared:    </th> <td>0.5046</td> \n",
       "</tr>\n",
       "<tr>\n",
       "  <th>No. Observations:</th>       <td>1000</td>       <th>  F-statistic:       </th> <td>53.505</td> \n",
       "</tr>\n",
       "<tr>\n",
       "  <th>Date:</th>             <td>Thu, Dec 10 2020</td> <th>  P-value (F-stat)   </th> <td>0.0000</td> \n",
       "</tr>\n",
       "<tr>\n",
       "  <th>Time:</th>                 <td>13:58:11</td>     <th>  Distribution:      </th> <td>chi2(1)</td>\n",
       "</tr>\n",
       "<tr>\n",
       "  <th>Cov. Estimator:</th>        <td>robust</td>      <th>                     </th>    <td></td>    \n",
       "</tr>\n",
       "<tr>\n",
       "  <th></th>                          <td></td>         <th>                     </th>    <td></td>    \n",
       "</tr>\n",
       "</table>\n",
       "<table class=\"simpletable\">\n",
       "<caption>Parameter Estimates</caption>\n",
       "<tr>\n",
       "          <td></td>         <th>Parameter</th> <th>Std. Err.</th> <th>T-stat</th> <th>P-value</th> <th>Lower CI</th> <th>Upper CI</th>\n",
       "</tr>\n",
       "<tr>\n",
       "  <th>exog</th>              <td>10.063</td>    <td>0.0445</td>   <td>226.32</td> <td>0.0000</td>   <td>9.9756</td>   <td>10.150</td> \n",
       "</tr>\n",
       "<tr>\n",
       "  <th>treated_complier</th>  <td>1.8520</td>    <td>0.2532</td>   <td>7.3147</td> <td>0.0000</td>   <td>1.3558</td>   <td>2.3483</td> \n",
       "</tr>\n",
       "</table><br/><br/>Endogenous: treated_complier<br/>Instruments: treatment_status<br/>Robust Covariance (Heteroskedastic)<br/>Debiased: False<br/>id: 0x1a1d89e290"
      ],
      "text/plain": [
       "                          IV-2SLS Estimation Summary                          \n",
       "==============================================================================\n",
       "Dep. Variable:             y_observed   R-squared:                      0.5051\n",
       "Estimator:                    IV-2SLS   Adj. R-squared:                 0.5046\n",
       "No. Observations:                1000   F-statistic:                    53.505\n",
       "Date:                Thu, Dec 10 2020   P-value (F-stat)                0.0000\n",
       "Time:                        13:58:11   Distribution:                  chi2(1)\n",
       "Cov. Estimator:                robust                                         \n",
       "                                                                              \n",
       "                                Parameter Estimates                                 \n",
       "====================================================================================\n",
       "                  Parameter  Std. Err.     T-stat    P-value    Lower CI    Upper CI\n",
       "------------------------------------------------------------------------------------\n",
       "exog                 10.063     0.0445     226.32     0.0000      9.9756      10.150\n",
       "treated_complier     1.8520     0.2532     7.3147     0.0000      1.3558      2.3483\n",
       "====================================================================================\n",
       "\n",
       "Endogenous: treated_complier\n",
       "Instruments: treatment_status\n",
       "Robust Covariance (Heteroskedastic)\n",
       "Debiased: False\n",
       "IVResults, id: 0x1a1d89e290"
      ]
     },
     "execution_count": 17,
     "metadata": {},
     "output_type": "execute_result"
    }
   ],
   "source": [
    "from linearmodels.iv.model import IV2SLS\n",
    "\n",
    "z = nr_noncompliance_data.treatment_status\n",
    "x = nr_noncompliance_data.treated_complier\n",
    "y = nr_noncompliance_data.y_observed\n",
    "intercept = np.ones(len(x))\n",
    "\n",
    "iv_fit = IV2SLS(y, intercept, x, z).fit()\n",
    "iv_fit"
   ]
  },
  {
   "cell_type": "markdown",
   "metadata": {},
   "source": [
    "### Get standard errors 'by hand'"
   ]
  },
  {
   "cell_type": "code",
   "execution_count": 18,
   "metadata": {},
   "outputs": [],
   "source": [
    "y_pred_control = nr_noncompliance_data[nr_noncompliance_data.treatment_status==0].y_observed.mean()\n",
    "y_pred_treat_comply = y_pred_control + CACE\n",
    "sst_x = ((x - x.mean())**2).sum()\n",
    "r2_xz = np.corrcoef(x, z)[:1, 1]**2\n",
    "\n",
    "y_preds = np.where(\n",
    "    nr_noncompliance_data.treated_complier==0, y_pred_control, y_pred_treat_comply\n",
    ")\n",
    "\n",
    "ssr = sum((y_preds - nr_noncompliance_data.y_observed)**2)\n",
    "sigma_2 = ssr / 998"
   ]
  },
  {
   "cell_type": "code",
   "execution_count": 19,
   "metadata": {},
   "outputs": [
    {
     "data": {
      "text/plain": [
       "array([0.25444523])"
      ]
     },
     "execution_count": 19,
     "metadata": {},
     "output_type": "execute_result"
    }
   ],
   "source": [
    "np.sqrt(sigma_2 / (sst_x*r2_xz))"
   ]
  }
 ],
 "metadata": {
  "kernelspec": {
   "display_name": "Python 3",
   "language": "python",
   "name": "python3"
  },
  "language_info": {
   "codemirror_mode": {
    "name": "ipython",
    "version": 3
   },
   "file_extension": ".py",
   "mimetype": "text/x-python",
   "name": "python",
   "nbconvert_exporter": "python",
   "pygments_lexer": "ipython3",
   "version": "3.7.4"
  }
 },
 "nbformat": 4,
 "nbformat_minor": 4
}
